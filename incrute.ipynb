{
 "cells": [
  {
   "cell_type": "markdown",
   "metadata": {},
   "source": [
    "<br>\n",
    "<br>\n",
    "\n",
    "# 필요한 모듈 불러오기"
   ]
  },
  {
   "cell_type": "code",
   "execution_count": 787,
   "metadata": {},
   "outputs": [],
   "source": [
    "from selenium import webdriver\n",
    "import requests\n",
    "from bs4 import BeautifulSoup\n",
    "driver  = webdriver.Chrome(\"D:/Project/chromedriver.exe\")"
   ]
  },
  {
   "cell_type": "markdown",
   "metadata": {},
   "source": [
    "<br>\n",
    "<br>\n",
    "\n",
    "# 페이지별로 기업 번호 불러오기"
   ]
  },
  {
   "cell_type": "code",
   "execution_count": 791,
   "metadata": {
    "tags": []
   },
   "outputs": [],
   "source": [
    "# 페이지별로 기업 번호 불러오기\n",
    "num = list(range(1,21))\n",
    "for i in num:\n",
    "    try:\n",
    "        corp_list = []\n",
    "        driver.get(\"http://people.incruit.com/resumeguide/pdslist.asp?page=\" +f'{i}'+ \"&listseq=1&sot=&pds1=1&pds2=11&pds3=&pds4=&schword=&rschword=&lang=&price=&occu_b_group=&occu_m_group=&occu_s_group=&career=&pass=&compty=&rank=&summary=&goodsty=\")\n",
    "        driver.implicitly_wait(5)\n",
    "        table = driver.find_element_by_class_name('board_Tbl01')\n",
    "        tbody = table.find_element_by_tag_name(\"tbody\")\n",
    "        for i in range(0,24):\n",
    "            rows = tbody.find_elements_by_tag_name(\"tr\")[i]\n",
    "            body = rows.find_elements_by_tag_name(\"td.numcol\")\n",
    "            for index, value in enumerate(body):\n",
    "                corp_list.append(value.text)\n",
    "    except:\n",
    "        continue\n"
   ]
  },
  {
   "cell_type": "markdown",
   "metadata": {},
   "source": [
    "<br>\n",
    "<br>\n",
    "\n",
    "# 자소서 크롤링 시작"
   ]
  },
  {
   "cell_type": "code",
   "execution_count": 793,
   "metadata": {},
   "outputs": [],
   "source": [
    "\n",
    "for i in corp_list:\n",
    "    try:\n",
    "        driver.get(\"https://people.incruit.com/resumeguide/pdsview.asp?pds1=1&pds2=11&pdsno=\"+ i +\"&listseq=&page=1&sot=0&pass=y\")\n",
    "        # 페이지 소스 가져오기\n",
    "        # time.sleep(5)\n",
    "        html = driver.page_source\n",
    "        soup = BeautifulSoup(html,'lxml')\n",
    "        resume = soup.find_all(class_='cont')[3].text\n",
    "        resume = resume.split(\".\")\n",
    "        for res in resume:#str\n",
    "            temp.append(res.replace('\\n','').replace('\\t','').replace('\\r',''))\n",
    "        file = open(\"D://Project//crawling//resume.txt\",'a',encoding='utf-8')\n",
    "        for resum in temp:\n",
    "            file.write(resum)\n",
    "        file.close()\n",
    "    except:\n",
    "        continue\n",
    "driver.close()"
   ]
  }
 ],
 "metadata": {
  "language_info": {
   "codemirror_mode": {
    "name": "ipython",
    "version": 3
   },
   "file_extension": ".py",
   "mimetype": "text/x-python",
   "name": "python",
   "nbconvert_exporter": "python",
   "pygments_lexer": "ipython3",
   "version": 3
  },
  "orig_nbformat": 2,
  "kernelspec": {
   "name": "python_defaultSpec_1594956571945",
   "display_name": "Python 3.7.6 64-bit ('base': conda)"
  }
 },
 "nbformat": 4,
 "nbformat_minor": 2
}